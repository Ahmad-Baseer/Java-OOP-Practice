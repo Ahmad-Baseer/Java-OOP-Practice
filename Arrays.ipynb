{
 "cells": [
  {
   "cell_type": "markdown",
   "id": "61288c41",
   "metadata": {},
   "source": [
    "# Practice Set # 05"
   ]
  },
  {
   "cell_type": "markdown",
   "id": "b029f0b9",
   "metadata": {},
   "source": [
    "### Exercise # 01: Write a program to create a rectangular array containing a multiplication table from 1 x 1 up to 12 x 12. Output the table as 13 columns with the numeric values right aligned in columns. ( The first line of the output will be the column headings, the first column with no heading, then the numbers 1 to 12 for the remaining columns. The first item in each of the succeeding lines is the row heading, which ranges from 1 to 12.)\n"
   ]
  },
  {
   "cell_type": "code",
   "execution_count": 16,
   "id": "c439af04",
   "metadata": {},
   "outputs": [
    {
     "name": "stdout",
     "output_type": "stream",
     "text": [
      "      :   1   2   3   4   5   6   7   8   9  10  11  12\n",
      "-------------------------------------------------------\n",
      "Row  1:   1   2   3   4   5   6   7   8   9  10  11  12\n",
      "Row  2:   2   4   6   8  10  12  14  16  18  20  22  24\n",
      "Row  3:   3   6   9  12  15  18  21  24  27  30  33  36\n",
      "Row  4:   4   8  12  16  20  24  28  32  36  40  44  48\n",
      "Row  5:   5  10  15  20  25  30  35  40  45  50  55  60\n",
      "Row  6:   6  12  18  24  30  36  42  48  54  60  66  72\n",
      "Row  7:   7  14  21  28  35  42  49  56  63  70  77  84\n",
      "Row  8:   8  16  24  32  40  48  56  64  72  80  88  96\n",
      "Row  9:   9  18  27  36  45  54  63  72  81  90  99 108\n",
      "Row 10:  10  20  30  40  50  60  70  80  90 100 110 120\n",
      "Row 11:  11  22  33  44  55  66  77  88  99 110 121 132\n",
      "Row 12:  12  24  36  48  60  72  84  96 108 120 132 144\n"
     ]
    }
   ],
   "source": [
    "int size=12;\n",
    "int table[][]=new int[size][size];\n",
    "\n",
    "//filling array with multiplication table\n",
    "for(int i=0;i<table.length;i++){\n",
    "for(int j=0;j<table[i].length;j++){\n",
    "table[i][j]=(i+1)*(j+1);\n",
    "}\n",
    "}\n",
    "System.out.print(\"      :\");\n",
    "\n",
    "//heading of tables\n",
    "for(int i=1;i<=12;i++){\n",
    "System.out.print((i<10?\"   \":\"  \")+i);\n",
    "}\n",
    "System.out.println(\"\\n-------------------------------------------------------\");\n",
    "\n",
    "for(int i=0;i<table.length;i++){\n",
    "System.out.print(\"Row\"+(i<9?\"  \":\" \")+(i+1)+\":\");\n",
    "for(int j=0;j<table.length;j++){\n",
    "System.out.print((table[i][j]<10?\"   \":table[i][j]<100?\"  \":\" \")+table[i][j]);\n",
    "}\n",
    "System.out.println();\n",
    "}"
   ]
  },
  {
   "cell_type": "markdown",
   "id": "265fe3ef",
   "metadata": {},
   "source": [
    "### Exercise # 02: Create an array of String variables and initialize the array with the names of the  months from January to December. Create an array containing 12 random decimal  values between 0.0 and 100.0. Display the names of each month along with the corresponding decimal value. Calculate and display the average of the 12 value.\n"
   ]
  },
  {
   "cell_type": "code",
   "execution_count": 17,
   "id": "7aa8c215",
   "metadata": {},
   "outputs": [
    {
     "name": "stdout",
     "output_type": "stream",
     "text": [
      "81.02080727626141: January\n",
      "14.801162380374445: Febuary\n",
      "13.07451134514096: March\n",
      "99.37557790287997: April\n",
      "26.59344833875639: May\n",
      "19.332819989441706: June\n",
      "17.925595542477968: July\n",
      "16.53147973245116: August\n",
      "87.53309749287078: september\n",
      "72.91159100773672: October\n",
      "7.523211746677894: November\n",
      "84.1542241013142: December\n",
      "Average of 12 number is: 45.06479390469863"
     ]
    }
   ],
   "source": [
    "String months[]={\"January\",\"Febuary\",\"March\",\"April\",\"May\"\n",
    ",\"June\",\"July\",\"August\",\"september\",\"October\",\"November\",\"December\"};\n",
    "double no[]=new double[12];\n",
    "double sum=0,average;\n",
    "\n",
    "for(int i=0;i<no.length;i++){\n",
    "no[i]=Math.random()*100;\n",
    "sum=sum+no[i]; \n",
    "}\n",
    "for(int i=0;i<months.length;i++){\n",
    "System.out.print(no[i]+\": \");\n",
    "System.out.println(months[i]);\n",
    "}\n",
    "System.out.print(\"Average of 12 number is: \"+(sum/12));"
   ]
  },
  {
   "cell_type": "markdown",
   "id": "d49f7982",
   "metadata": {},
   "source": [
    "###  Exercise # 03: Write a Java program to calculate the average value of array elements."
   ]
  },
  {
   "cell_type": "code",
   "execution_count": 18,
   "id": "6c7f4384",
   "metadata": {},
   "outputs": [
    {
     "name": "stdout",
     "output_type": "stream",
     "text": [
      "14\n",
      "67\n",
      "17\n",
      "60\n",
      "6\n",
      "68\n",
      "38\n",
      "91\n",
      "15\n",
      "19\n",
      "Sum of array elements are: 395\n",
      "Average of array elements is: 39\n"
     ]
    }
   ],
   "source": [
    "int arr[]=new int[10];\n",
    "int sum=0;\n",
    "\n",
    "for(int i=0;i<arr.length;i++){\n",
    "arr[i]=(int)(Math.random()*100);\n",
    "sum=sum+arr[i]; \n",
    "}\n",
    "for(int i=0;i<arr.length;i++){\n",
    "System.out.println(arr[i]); \n",
    "}\n",
    "System.out.println(\"Sum of array elements are: \"+sum);\n",
    "System.out.println(\"Average of array elements is: \"+(sum/arr.length));\n"
   ]
  },
  {
   "cell_type": "markdown",
   "id": "0586b3fa",
   "metadata": {},
   "source": [
    "### Exercide # 04: Write a Java program to reverse an array of integer values."
   ]
  },
  {
   "cell_type": "code",
   "execution_count": 19,
   "id": "39c81271",
   "metadata": {},
   "outputs": [
    {
     "name": "stdout",
     "output_type": "stream",
     "text": [
      "Original Array!\n",
      "52 45 73 36 26 \n",
      "Reversed Array!\n",
      "26 36 73 45 52 "
     ]
    }
   ],
   "source": [
    "int arr[]=new int[5];\n",
    "\n",
    "for(int i=0;i<arr.length;i++){\n",
    "arr[i]=(int)(Math.random()*100);\n",
    "}\n",
    "System.out.println(\"Original Array!\");\n",
    "for(int i=0;i<arr.length;i++){\n",
    "System.out.print(arr[i]+\" \");\n",
    "}\n",
    "System.out.println();\n",
    "System.out.println(\"Reversed Array!\");\n",
    "for(int i=arr.length-1;i>=0;i--){\n",
    "System.out.print(arr[i]+\" \");\n",
    "}\n"
   ]
  },
  {
   "cell_type": "markdown",
   "id": "c25ce8c4",
   "metadata": {},
   "source": [
    "### Exercise # 05: Write a Java program to sort a numeric array and a string array."
   ]
  },
  {
   "cell_type": "code",
   "execution_count": 20,
   "id": "86ed2263",
   "metadata": {},
   "outputs": [
    {
     "name": "stdout",
     "output_type": "stream",
     "text": [
      "Orriginal Array!\n",
      "94 75 35 43 61 \n",
      "Sorted Array!\n",
      "35 43 61 75 94 \n",
      "Orriginal Array!\n",
      "Haider Aoun Ali Ahmad \n",
      "Sorted Array!\n",
      "Ahmad Ali Aoun Haider "
     ]
    }
   ],
   "source": [
    "int arr[] = new int[5];\n",
    "int temp;\n",
    "String arr1[]={\"Haider\",\"Aoun\",\"Ali\",\"Ahmad\"};\n",
    "String temp1;\n",
    "\n",
    "//Numeric Array Sorting\n",
    "for (int i = 0; i < arr.length; i++) {\n",
    "arr[i] = (int) (Math.random() * 100);\n",
    "}\n",
    "System.out.println(\"Orriginal Array!\");\n",
    "for (int i = 0; i < arr.length; i++) {\n",
    "System.out.print(arr[i] + \" \");\n",
    "}\n",
    "System.out.println();\n",
    "for (int i = 0; i < arr.length; i++) {\n",
    "int flag = 0;\n",
    "for (int j = 0; j < arr.length - 1 - i; j++) {\n",
    "if (arr[j] > arr[j + 1]) {\n",
    "temp = arr[j];\n",
    "arr[j] = arr[j + 1];\n",
    "arr[j + 1] = temp;\n",
    "flag = 1;\n",
    "}\n",
    "}\n",
    "if (flag == 0) {\n",
    "break;\n",
    "}\n",
    "}\n",
    "System.out.println(\"Sorted Array!\");\n",
    "for (int i = 0; i < arr.length; i++) {\n",
    "System.out.print(arr[i] + \" \");\n",
    "}\n",
    "System.out.println();\n",
    "System.out.println(\"Orriginal Array!\");\n",
    "for (int i = 0; i < arr1.length; i++) {\n",
    "System.out.print(arr1[i] + \" \");\n",
    "}\n",
    "System.out.println();\n",
    "\n",
    "// String Array sorting\n",
    "for (int i = 0; i < arr1.length; i++) {\n",
    "int flag = 0;\n",
    "for (int j = 0; j < arr1.length - 1 - i; j++) {\n",
    "if (arr1[j].compareTo(arr1[j + 1])>0) {\n",
    "temp1 = arr1[j];\n",
    "arr1[j] = arr1[j + 1];\n",
    "arr1[j + 1] = temp1;\n",
    "flag = 1;\n",
    "}\n",
    "}\n",
    "if (flag == 0) {\n",
    "break;\n",
    "}\n",
    "}\n",
    "System.out.println(\"Sorted Array!\");\n",
    "for (int i = 0; i < arr1.length; i++) {\n",
    "System.out.print(arr1[i] + \" \");\n",
    "}"
   ]
  },
  {
   "cell_type": "code",
   "execution_count": null,
   "id": "989d31db",
   "metadata": {},
   "outputs": [],
   "source": []
  }
 ],
 "metadata": {
  "kernelspec": {
   "display_name": "Java",
   "language": "java",
   "name": "java"
  },
  "language_info": {
   "codemirror_mode": "java",
   "file_extension": ".jshell",
   "mimetype": "text/x-java-source",
   "name": "Java",
   "pygments_lexer": "java",
   "version": "18+36-2087"
  }
 },
 "nbformat": 4,
 "nbformat_minor": 5
}
