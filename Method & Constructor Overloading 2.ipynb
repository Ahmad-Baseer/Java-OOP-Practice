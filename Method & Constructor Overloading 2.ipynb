{
 "cells": [
  {
   "cell_type": "markdown",
   "id": "74fb78c9",
   "metadata": {},
   "source": [
    "# Practice Set # 10"
   ]
  },
  {
   "cell_type": "markdown",
   "id": "237a4b9f",
   "metadata": {},
   "source": [
    "### Exercise # 01: Create a class Card, and its children classes are Valentine, Holiday, and Birthday. A card class will have a greeting () method that writes out a greeting. Each type of card contains an appropriate greeting. The Holiday card says \"Season's Greetings.\" The Birthday card says \"Happy Birthday.\" The Valentine card says \"Happy Valentine Day\". Create objects of the three child classes: Valentine, Holiday, and Birthday and show the polymorphic behavior (call the greeting methods from each object)."
   ]
  },
  {
   "cell_type": "code",
   "execution_count": 4,
   "id": "a960127b",
   "metadata": {},
   "outputs": [
    {
     "name": "stdout",
     "output_type": "stream",
     "text": [
      "Happy birthday\n",
      "Seasons's greeeting\n",
      "Happy Valentine Day\n"
     ]
    }
   ],
   "source": [
    "public class Card {\n",
    "public void Greeting(){\n",
    "System.out.println(\"Nothing is here!\");\n",
    "}\n",
    "}\n",
    "public class Birthday extends Card {\n",
    "public void Greeting(){\n",
    "System.out.println(\"Happy birthday\");\n",
    "}\n",
    "}\n",
    "public class Holiday extends Card {\n",
    "public void Greeting(){\n",
    "System.out.println(\"Seasons's greeeting\");\n",
    "}\n",
    "}\n",
    "public class Valentine extends Card {\n",
    "public void Greeting(){\n",
    "System.out.println(\"Happy Valentine Day\");\n",
    "}\n",
    "}\n",
    "public class Lab11T1 {\n",
    "public static void main(String[] args) {\n",
    "Card obj=new Birthday();\n",
    "Card obj1=new Holiday();\n",
    "Card obj2=new Valentine();\n",
    "obj.Greeting();\n",
    "obj1.Greeting();\n",
    "obj2.Greeting();\n",
    "}\n",
    "}\n",
    "Lab11T1.main(null);"
   ]
  },
  {
   "cell_type": "markdown",
   "id": "4a682ca3",
   "metadata": {},
   "source": [
    "### Exercise # 02: Develop a registration system for a University. It should consist of three classes name Student, Teacher, and Course. For our example, a student needs to have a name, rol number, address and GPA to be eligible for registration. Therefore choose appropriate data types for encapsulating these properties in a Student object/s. Similarly a teache needs to have name, address, telephone number, and a degree (or a list of degrees) he ha received. Finally courses must have a name, students (5 students) registered for the course and a teacher assigned to conduct the course. Create an object of Course with 5 Student and a Teacher. A call to a method, say printDetails(), of the selected course reference shoul print name of the course, details of the teacher assigned to that course, and names and rol numbers of the students enrolled with the course.\n"
   ]
  },
  {
   "cell_type": "code",
   "execution_count": 6,
   "id": "96ad9152",
   "metadata": {},
   "outputs": [
    {
     "name": "stdout",
     "output_type": "stream",
     "text": [
      "Registered students are:\n",
      "shaheer\n",
      "Congrats you are eliligible for registration!\n",
      "rashid\n",
      "Sorry you are not eliligible for registration!\n",
      "khaleel\n",
      "Sorry you are not eliligible for registration!\n",
      "Raju\n",
      "Congrats you are eliligible for registration!\n",
      "Ahad\n",
      "Congrats you are eliligible for registration!\n",
      "Course is:physics and teacher is Asad\n",
      "Teacher details:Asad, MAlir, physics, 121232432"
     ]
    }
   ],
   "source": [
    "public class Student {\n",
    "String name,address;\n",
    "int GPA,roll_no;\n",
    "Student(String name,String address,int GPA, int roll_no){\n",
    "this.name=name;\n",
    "this.address=address;\n",
    "this.GPA=GPA;\n",
    "this.roll_no=roll_no;\n",
    "}\n",
    "public void eligibility(){\n",
    "if(name!=\"\"&&address!=\"\"&&GPA!=0&&roll_no!=0){\n",
    "System.out.println(\"Congrats you are eliligible for registration!\");\n",
    "}\n",
    "else{\n",
    "System.out.println(\"Sorry you are not eliligible for registration!\");\n",
    "}\n",
    "}\n",
    "}\n",
    "public class Teacher {\n",
    "String name,address,degree;\n",
    "long ph_no;\n",
    "Teacher(String name,String address,String degree,long ph_no){\n",
    "this.name=name;\n",
    "this.address=address;\n",
    "this.degree=degree;\n",
    "this.ph_no=ph_no;\n",
    "}\n",
    "}\n",
    "public class Course {\n",
    "String student1,student2,student3,student4,student5,Teacher;\n",
    "Teacher tea=new Teacher(\"Asad\",\"MAlir\",\"physics\",121232432);\n",
    "Course(String student1,String student2,String student3,String student4,String student5,\n",
    "String Teacher){\n",
    "this.student1=student1;\n",
    "this.student2=student2;\n",
    "this.student3=student3;\n",
    "this.student4=student4;\n",
    "this.student5=student5;\n",
    "this.Teacher=Teacher;\n",
    "}\n",
    "public void printdetails(){\n",
    "System.out.println(\"Registered students are:\");\n",
    "System.out.println(student1);\n",
    "Student std=new Student(student1,\"Karachi\",3,132);\n",
    "std.eligibility();\n",
    "System.out.println(student2);\n",
    "Student std1=new Student(student2,\"\",2,123);\n",
    "std1.eligibility();\n",
    "System.out.println(student3);\n",
    "Student std2=new Student(student3,\"kent\",0,167);\n",
    "std2.eligibility();\n",
    "System.out.println(student4);\n",
    "Student std3=new Student(student4,\"Hyd\",1,115);\n",
    "std3.eligibility();\n",
    "System.out.println(student5);\n",
    "Student std4=new Student(student5,\"DHA\",3,163);\n",
    "std4.eligibility();\n",
    "System.out.println(\"Course is:\"+tea.degree+\" and teacher is \"+tea.name);\n",
    "System.out.print(\"Teacher details:\"+tea.name+\", \"+tea.address+\", \"+tea.degree+\", \"+tea.ph_no);\n",
    "}\n",
    "}\n",
    "public class LAb11t2 {\n",
    "public static void main(String[] args) {\n",
    "Course cou=new Course(\"shaheer\",\"rashid\",\"khaleel\",\"Raju\",\"Ahad\",\"Asad\");\n",
    "cou.printdetails();\n",
    "}\n",
    "}\n",
    "LAb11t2.main(null);"
   ]
  }
 ],
 "metadata": {
  "kernelspec": {
   "display_name": "Java",
   "language": "java",
   "name": "java"
  },
  "language_info": {
   "codemirror_mode": "java",
   "file_extension": ".jshell",
   "mimetype": "text/x-java-source",
   "name": "Java",
   "pygments_lexer": "java",
   "version": "18+36-2087"
  }
 },
 "nbformat": 4,
 "nbformat_minor": 5
}
