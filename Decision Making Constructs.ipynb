{
 "cells": [
  {
   "cell_type": "markdown",
   "id": "a00ce3ce",
   "metadata": {},
   "source": [
    "# Practice Set # 03"
   ]
  },
  {
   "cell_type": "markdown",
   "id": "1e114d48",
   "metadata": {},
   "source": [
    "### Exercise # 01: Take values of length and breadth of a rectangle from user and check if it is square or not."
   ]
  },
  {
   "cell_type": "code",
   "execution_count": 10,
   "id": "6fa72f1c",
   "metadata": {
    "scrolled": true
   },
   "outputs": [
    {
     "name": "stdout",
     "output_type": "stream",
     "text": [
      "Plz Enter length of a square:3\n",
      "Plz Enter breadth of a square:4\n",
      "It is not a square!"
     ]
    }
   ],
   "source": [
    "import java.util.Scanner;\n",
    "Scanner sc=new Scanner(System.in);\n",
    "\n",
    "int length,breadth;\n",
    "\n",
    "System.out.print(\"Plz Enter length of a square:\");\n",
    "length=sc.nextInt();\n",
    "System.out.print(\"Plz Enter breadth of a square:\");\n",
    "breadth=sc.nextInt();\n",
    "\n",
    "if(breadth==length) {\n",
    "System.out.print(\"It is a square!\"); \n",
    "}\n",
    "else {\n",
    "System.out.print(\"It is not a square!\");\n",
    "}"
   ]
  },
  {
   "cell_type": "markdown",
   "id": "bab7e83a",
   "metadata": {},
   "source": [
    "### Exercise # 02 : A school has following rules for grading system: \n",
    "**A) Below 25 F\n",
    "<br>\n",
    "B) 25 to 45 E\n",
    "<br>\n",
    "C) 45 to 50 D\n",
    "<br>\n",
    "D) 50 to 60 C\n",
    "<br>\n",
    "E) 60 to 80 B\n",
    "<br>\n",
    "F) Above 80 A**\n",
    "### Write a program to enter marks and print the corresponding grade"
   ]
  },
  {
   "cell_type": "code",
   "execution_count": 1,
   "id": "440ac188",
   "metadata": {},
   "outputs": [
    {
     "name": "stdout",
     "output_type": "stream",
     "text": [
      "Plz Enter obtained marks in Maths out of 100:86\n",
      "Plz Enter obtained marks in English out of 100:86\n",
      "Plz Enter obtained marks in Physics out of 100:92\n",
      "You got A!"
     ]
    }
   ],
   "source": [
    "import java.util.Scanner;\n",
    "Scanner sc=new Scanner(System.in);\n",
    "\n",
    "int sub1,sub2,sub3,t_marks;\n",
    "float perc=0;\n",
    "\n",
    "System.out.print(\"Plz Enter obtained marks in Maths out of 100:\");\n",
    "sub1=sc.nextInt();\n",
    "System.out.print(\"Plz Enter obtained marks in English out of 100:\");\n",
    "sub2=sc.nextInt();\n",
    "System.out.print(\"Plz Enter obtained marks in Physics out of 100:\");\n",
    "sub3=sc.nextInt();\n",
    "t_marks=sub1+sub2+sub3;\n",
    "perc=t_marks/3;\n",
    "if(perc>80&&perc<=100) {\n",
    "System.out.print(\"You got A!\");\n",
    "}\n",
    "else if(perc>60&&perc<=80) {\n",
    "System.out.print(\"You got B!\"); \n",
    "}\n",
    "else if(perc>50&&perc<=60) {\n",
    "System.out.print(\"You got C!\"); \n",
    "}\n",
    "else if(perc>45&&perc<=50) {\n",
    "System.out.print(\"You got D!\"); \n",
    "}\n",
    "else if(perc>25&&perc<=45) {\n",
    "System.out.print(\"You got E!\"); \n",
    "}\n",
    "else {\n",
    "System.out.print(\"Sorry You got F!\"); \n",
    "} "
   ]
  },
  {
   "cell_type": "markdown",
   "id": "7d96927b",
   "metadata": {},
   "source": [
    "### Exercise # 03: A student will not be allowed to sit in exam if his/her attendance is less than 75%. Take following input from user, Number of classes held, Number of classes attended and print percentage of class attended. Is student is allowed to sit in exam or not."
   ]
  },
  {
   "cell_type": "code",
   "execution_count": 15,
   "id": "174b4930",
   "metadata": {},
   "outputs": [
    {
     "name": "stdout",
     "output_type": "stream",
     "text": [
      "Plz enter No of classes that are held:16\n",
      "Plz enter No of Attended classes:15\n",
      "Your percentage is:93.75\n",
      "Congrats you are allowed to sit in exam!"
     ]
    }
   ],
   "source": [
    "import java.util.Scanner;\n",
    "Scanner sc=new Scanner(System.in);\n",
    "\n",
    "//Cls means Class, hld means held, atndd means attended\n",
    "float Cls_hld,Cls_atndd;\n",
    "float perc;\n",
    "\n",
    "System.out.print(\"Plz enter No of classes that are held:\");\n",
    "Cls_hld=sc.nextInt();\n",
    "System.out.print(\"Plz enter No of Attended classes:\");\n",
    "Cls_atndd=sc.nextInt();\n",
    "perc=(Cls_atndd/Cls_hld)*100;\n",
    "System.out.println(\"Your percentage is:\"+perc);\n",
    "if(perc>=75.0) {\n",
    "System.out.print(\"Congrats you are allowed to sit in exam!\");\n",
    "}\n",
    "else {\n",
    "System.out.print(\"Sorry you can't sit in exam!\");\n",
    "}"
   ]
  },
  {
   "cell_type": "markdown",
   "id": "280723c2",
   "metadata": {},
   "source": [
    "### Exercise # 04: Write a program using switch which choose between following cases \n",
    "**a: Add two numbers\n",
    "<br>\n",
    "b: Find power using math function \n",
    "<br>\n",
    "c: Exit**"
   ]
  },
  {
   "cell_type": "code",
   "execution_count": 17,
   "id": "e288b947",
   "metadata": {},
   "outputs": [
    {
     "name": "stdout",
     "output_type": "stream",
     "text": [
      "1. Addition\n",
      "2. Power\n",
      "3. Exit\n",
      "Plz Choose any one from the above following methods:\n",
      "Addition\n",
      "Plz enter First number:45\n",
      "Plz enter Second number:45\n",
      "After addition of both we got:90"
     ]
    }
   ],
   "source": [
    "import java.util.Scanner;\n",
    "Scanner sc=new Scanner(System.in);\n",
    "\n",
    "String method;\n",
    "\n",
    "System.out.println(\"1. Addition\");\n",
    "System.out.println(\"2. Power\");\n",
    "System.out.println(\"3. Exit\");\n",
    "System.out.println(\"Plz Choose any one from the above following methods:\");\n",
    "method=sc.next();\n",
    "switch (method) {\n",
    "case \"Addition\":\n",
    "int a,b;\n",
    "System.out.print(\"Plz enter First number:\");\n",
    "a=sc.nextInt();\n",
    "System.out.print(\"Plz enter Second number:\");\n",
    "b=sc.nextInt();\n",
    "System.out.print(\"After addition of both we got:\"+(a+b));\n",
    "break;\n",
    "case \"Power\":\n",
    "int[]c=new int[2];\n",
    "System.out.print(\"Plz enter number on which you wants to raised power:\");\n",
    "c[0]=sc.nextInt();\n",
    "System.out.print(\"Plz enter power which do you want to raised:\");\n",
    "c[1]=sc.nextInt();\n",
    "System.out.println(c[0]+\" raised to power \"+c[1]+\" is: \"+Math.pow(c[0],c[1]));\n",
    "break;\n",
    "case \"Exit\":\n",
    "char ch;\n",
    "System.out.print(\"Do you really wants to exit? then press y:\");\n",
    "ch=sc.next().charAt(0);\n",
    "if(ch=='y'){\n",
    "System.out.println(\"Thanx for Coming Plz come again!\"); }\n",
    "break;\n",
    "default:\n",
    "System.out.println(\"You did'nt choose any of the above methods!\"); \n",
    "}"
   ]
  },
  {
   "cell_type": "markdown",
   "id": "0ebf59d6",
   "metadata": {},
   "source": [
    "### Exercise # 05: Explore if-else-if ladder and write a program of your choice to demonstrate its implementation.\n"
   ]
  },
  {
   "cell_type": "code",
   "execution_count": 20,
   "id": "6f369eaf",
   "metadata": {},
   "outputs": [
    {
     "name": "stdout",
     "output_type": "stream",
     "text": [
      "Plz enter any character:e\n",
      "Entered character is vowel!"
     ]
    }
   ],
   "source": [
    "import java.util.Scanner;\n",
    "Scanner sc=new Scanner(System.in);\n",
    "\n",
    "char ch;\n",
    "\n",
    "System.out.print(\"Plz enter any character:\");\n",
    "ch=sc.next().charAt(0);\n",
    "if(ch=='A'||ch=='E'||ch=='I'||ch=='O'||ch=='U') {\n",
    "System.out.print(\"Entered character is vowel!\");\n",
    "}\n",
    "else if(ch=='a'||ch=='e'||ch=='i'||ch=='o'||ch=='u') {\n",
    "System.out.print(\"Entered character is vowel!\");}\n",
    "else {\n",
    "System.out.print(\"Entered character is not a vowel!\");\n",
    "}"
   ]
  }
 ],
 "metadata": {
  "kernelspec": {
   "display_name": "Java",
   "language": "java",
   "name": "java"
  },
  "language_info": {
   "codemirror_mode": "java",
   "file_extension": ".jshell",
   "mimetype": "text/x-java-source",
   "name": "Java",
   "pygments_lexer": "java",
   "version": "18+36-2087"
  }
 },
 "nbformat": 4,
 "nbformat_minor": 5
}
