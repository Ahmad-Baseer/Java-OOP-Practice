{
 "cells": [
  {
   "cell_type": "markdown",
   "id": "c9b5e175",
   "metadata": {},
   "source": [
    "# Practice Set # 09"
   ]
  },
  {
   "cell_type": "markdown",
   "id": "bd624f7c",
   "metadata": {},
   "source": [
    "### Exercise # 01: What is the “type promotion Overloading”? Explore and demonstrate with your own program."
   ]
  },
  {
   "cell_type": "markdown",
   "id": "1eaa3743",
   "metadata": {},
   "source": [
    "**Ans: Type promotion is done while doing method overloading in Java. When the datatype is not the\n",
    " same then we promote one datatype to another datatype. We cannot de-promote one datatype to\n",
    " another datatype.**"
   ]
  },
  {
   "cell_type": "code",
   "execution_count": 3,
   "id": "babcc95d",
   "metadata": {},
   "outputs": [
    {
     "name": "stdout",
     "output_type": "stream",
     "text": [
      "sum return type is int\n",
      "Sum is: 11\n",
      "sum return type is double\n",
      "Sum is: 11.0\n"
     ]
    }
   ],
   "source": [
    "public class LAb10T1a {\n",
    "public int sum(int c,int d){\n",
    "System.out.println(\"sum return type is int\");\n",
    "return c+d;\n",
    "}\n",
    "public double sum(double e,double f){\n",
    "System.out.println(\"sum return type is double\");\n",
    "return e+f;\n",
    "}\n",
    "}\n",
    "import java.util.Scanner;\n",
    "public class Lab10T1 {\n",
    "public static void main(String[] args) {\n",
    "Scanner sc=new Scanner(System.in);\n",
    "LAb10T1a obj=new LAb10T1a ();\n",
    "System.out.println(\"Sum is: \"+obj.sum(4,7));\n",
    "System.out.println(\"Sum is: \"+obj.sum(5.0,6)); //as one argument is real so double type sum will be called second time\n",
    "}\n",
    "}\n",
    "Lab10T1.main(null);"
   ]
  },
  {
   "cell_type": "markdown",
   "id": "3de5b3a7",
   "metadata": {},
   "source": [
    "### Exercise # 02: Create a class to print the area of a square and a rectangle. The class has two methods with the same name but different number of parameters. The method for printing area of rectangle has two parameters which are length and breadth respetively while the other method for printing area of square has one parameter which is side of square."
   ]
  },
  {
   "cell_type": "code",
   "execution_count": 4,
   "id": "cb5c3047",
   "metadata": {},
   "outputs": [
    {
     "name": "stdout",
     "output_type": "stream",
     "text": [
      "Plz enter length of rectangle: 32\n",
      "Plz enter breadth of rectangle: 2\n",
      "Area of rectangle is: 64\n",
      "Plz enter side of square: 2\n",
      "Area of square is: 4\n"
     ]
    }
   ],
   "source": [
    "public class Lab10T2a {\n",
    "public int Area(int a,int b){\n",
    "return a*b;\n",
    "}\n",
    "public int Area(int c){\n",
    "return c*c;\n",
    "}\n",
    "}\n",
    "import java.util.Scanner;\n",
    "public class Lab10T2 {\n",
    "public static void main(String[] args) {\n",
    "Scanner sc=new Scanner(System.in);\n",
    "int length,breadth,side;\n",
    "Lab10T2a obj=new Lab10T2a ();\n",
    "System.out.print(\"Plz enter length of rectangle: \");\n",
    "length=sc.nextInt();\n",
    "System.out.print(\"Plz enter breadth of rectangle: \");\n",
    "breadth=sc.nextInt();\n",
    "System.out.println(\"Area of rectangle is: \"+obj.Area(length,breadth));\n",
    "System.out.print(\"Plz enter side of square: \");\n",
    "side=sc.nextInt();\n",
    "System.out.println(\"Area of square is: \"+obj.Area(side));\n",
    "}\n",
    "}\n",
    "Lab10T2.main(null);"
   ]
  },
  {
   "cell_type": "markdown",
   "id": "c08647b9",
   "metadata": {},
   "source": [
    "### Exercise # 03: Define a class with the name‟Mathematics and define a method‟Square()‟for calculating the square of any given number.Now redefine this method with different type of argument variables, but with the same name ‘square()’."
   ]
  },
  {
   "cell_type": "code",
   "execution_count": 5,
   "id": "e06418b0",
   "metadata": {},
   "outputs": [
    {
     "name": "stdout",
     "output_type": "stream",
     "text": [
      "plz enter the number:3\n",
      "Square of given number is:9.0\n",
      "plz enter the number:4\n",
      "Square of given number is:16\n"
     ]
    }
   ],
   "source": [
    "public class Mathematics {\n",
    "public int square(int b){\n",
    "double c=Math.pow(b,2);\n",
    "int d=(int)c;\n",
    "return d;\n",
    "}\n",
    "public double square(double a){\n",
    "return a*a;\n",
    "}\n",
    "}\n",
    "import java.util.Scanner;\n",
    "public class LAb10t3 {\n",
    "public static void main(String[] args) {\n",
    "Scanner sc=new Scanner(System.in);\n",
    "Mathematics obj=new Mathematics();\n",
    "System.out.print(\"plz enter the number:\");\n",
    "double a=sc.nextDouble();\n",
    "System.out.println(\"Square of given number is:\"+obj.square(a));\n",
    "System.out.print(\"plz enter the number:\");\n",
    "int b=sc.nextInt();\n",
    "System.out.println(\"Square of given number is:\"+obj.square(b));\n",
    "}\n",
    "}\n",
    "LAb10t3.main(null);"
   ]
  },
  {
   "cell_type": "markdown",
   "id": "166fba89",
   "metadata": {},
   "source": [
    "### Exercise # 04: Write a program to print the names of students by creating a Student class. If no name is passed while creating an object of Student class, then the name should be \"Unknown\", otherwise the name should be equal to the String value passed while creating object of Student class.\n"
   ]
  },
  {
   "cell_type": "code",
   "execution_count": 6,
   "id": "066a0fc8",
   "metadata": {},
   "outputs": [
    {
     "name": "stdout",
     "output_type": "stream",
     "text": [
      "Name of student is:Haider\n",
      "Name of student is:Ali\n",
      "Name of student is:Ahmad \n",
      "Name of student is:Unknown\n"
     ]
    }
   ],
   "source": [
    "public class Student {\n",
    "String name;\n",
    "String name1=\"Unknown\";\n",
    "Student(String name){\n",
    "this.name=name;\n",
    "}\n",
    "public void display(){\n",
    "if(name!=\"\"){\n",
    "System.out.println(\"Name of student is:\"+name);}\n",
    "else{\n",
    "System.out.println(\"Name of student is:\"+name1);}\n",
    "}\n",
    "}\n",
    "public class Lab10t4 {\n",
    "public static void main(String[] args) {\n",
    "Student obj=new Student(\"Haider\");\n",
    "Student obj1=new Student(\"Ali\");\n",
    "Student obj2=new Student(\"Ahmad \");\n",
    "Student obj3=new Student(\"\");\n",
    "obj.display();\n",
    "obj1.display();\n",
    "obj2.display();\n",
    "obj3.display();\n",
    "}\n",
    "}\n",
    "Lab10t4.main(null);"
   ]
  },
  {
   "cell_type": "code",
   "execution_count": null,
   "id": "3df65632",
   "metadata": {},
   "outputs": [],
   "source": []
  }
 ],
 "metadata": {
  "kernelspec": {
   "display_name": "Java",
   "language": "java",
   "name": "java"
  },
  "language_info": {
   "codemirror_mode": "java",
   "file_extension": ".jshell",
   "mimetype": "text/x-java-source",
   "name": "Java",
   "pygments_lexer": "java",
   "version": "18+36-2087"
  }
 },
 "nbformat": 4,
 "nbformat_minor": 5
}
