{
 "cells": [
  {
   "cell_type": "markdown",
   "id": "a09adc00",
   "metadata": {},
   "source": [
    "# Practice Set # 04"
   ]
  },
  {
   "cell_type": "markdown",
   "id": "8e5f1e98",
   "metadata": {},
   "source": [
    "### Exercise # 01: Write a java program in which print 20 to 30 numbers using for loop."
   ]
  },
  {
   "cell_type": "code",
   "execution_count": 1,
   "id": "031ebc52",
   "metadata": {},
   "outputs": [
    {
     "name": "stdout",
     "output_type": "stream",
     "text": [
      "20\n",
      "21\n",
      "22\n",
      "23\n",
      "24\n",
      "25\n",
      "26\n",
      "27\n",
      "28\n",
      "29\n",
      "30\n"
     ]
    }
   ],
   "source": [
    "int i;\n",
    "\n",
    "for(i=20;i<=30;i++) {\n",
    "System.out.println(i); \n",
    "} "
   ]
  },
  {
   "cell_type": "markdown",
   "id": "f4d305e0",
   "metadata": {},
   "source": [
    "### Exercise # 02: Write a program in java and print table of 2 using do while loop."
   ]
  },
  {
   "cell_type": "code",
   "execution_count": 2,
   "id": "3c12befe",
   "metadata": {},
   "outputs": [
    {
     "name": "stdout",
     "output_type": "stream",
     "text": [
      "2*1=2\n",
      "2*2=4\n",
      "2*3=6\n",
      "2*4=8\n",
      "2*5=10\n",
      "2*6=12\n",
      "2*7=14\n",
      "2*8=16\n",
      "2*9=18\n",
      "2*10=20\n"
     ]
    }
   ],
   "source": [
    "int no=2,i=1;\n",
    "do {\n",
    "System.out.println(no+\"*\"+i+\"=\"+(no+(i-1)*no));\n",
    "i++; \n",
    "}\n",
    "while(i<=10); "
   ]
  },
  {
   "cell_type": "markdown",
   "id": "f1b8ae9c",
   "metadata": {},
   "source": [
    "### Exercise # 03: Write a program in java and print * 100 times using while loop."
   ]
  },
  {
   "cell_type": "code",
   "execution_count": 3,
   "id": "7a3dcaea",
   "metadata": {},
   "outputs": [
    {
     "name": "stdout",
     "output_type": "stream",
     "text": [
      "****************************************************************************************************"
     ]
    }
   ],
   "source": [
    "int i=1;\n",
    "while(i<=100) {\n",
    "System.out.print(\"*\");\n",
    "i++;\n",
    "}"
   ]
  },
  {
   "cell_type": "markdown",
   "id": "782a21aa",
   "metadata": {},
   "source": [
    "### Exercise # 04: Write a program to print even number from 0 to 50 using for loop.\n"
   ]
  },
  {
   "cell_type": "code",
   "execution_count": 5,
   "id": "50895a6d",
   "metadata": {},
   "outputs": [
    {
     "name": "stdout",
     "output_type": "stream",
     "text": [
      "0\n",
      "2\n",
      "4\n",
      "6\n",
      "8\n",
      "10\n",
      "12\n",
      "14\n",
      "16\n",
      "18\n",
      "20\n",
      "22\n",
      "24\n",
      "26\n",
      "28\n",
      "30\n",
      "32\n",
      "34\n",
      "36\n",
      "38\n",
      "40\n",
      "42\n",
      "44\n",
      "46\n",
      "48\n",
      "50\n"
     ]
    }
   ],
   "source": [
    "int i;\n",
    "for(i=0;i<=50;i+=2) {\n",
    "System.out.println(i); \n",
    "} \n",
    "\n",
    "// 2nd Approach\n",
    "\n",
    "/* \n",
    "int i;\n",
    "for(i=0;i<=50;i++) {\n",
    "if(i%2==0) {\n",
    "System.out.println(i); \n",
    "} \n",
    "*/"
   ]
  },
  {
   "cell_type": "markdown",
   "id": "13f9c3f7",
   "metadata": {},
   "source": [
    "### Exercise # 05: Write a program to print odd number from 1 to 100 using all three loops"
   ]
  },
  {
   "cell_type": "code",
   "execution_count": 6,
   "id": "8e0094e3",
   "metadata": {},
   "outputs": [
    {
     "name": "stdout",
     "output_type": "stream",
     "text": [
      "1\t3\t5\t7\t9\t11\t13\t15\t17\t19\t21\t23\t25\t27\t29\t31\t33\t35\t37\t39\t41\t43\t45\t47\t49\t51\t53\t55\t57\t59\t61\t63\t65\t67\t69\t71\t73\t75\t77\t79\t81\t83\t85\t87\t89\t91\t93\t95\t97\t99\t"
     ]
    }
   ],
   "source": [
    "// By using For loop\n",
    "\n",
    "int i;\n",
    "for(i=1;i<=100;i++) {\n",
    "if(i%2!=0) {\n",
    "System.out.print(i+\"\\t\");\n",
    "}\n",
    "}\n",
    "\n",
    "// By using While loop\n",
    "\n",
    "/*\n",
    "int i=1;\n",
    "while(i<=100) {\n",
    "System.out.print(i+\"\\t\");\n",
    "i+=2;\n",
    "}\n",
    "*/\n",
    "\n",
    "// By using do While loop\n",
    "\n",
    "/*\n",
    "int i=1;\n",
    "do {\n",
    "System.out.print (i+\"\\t\");\n",
    "i+=2;\n",
    "}\n",
    "while(i<=100);\n",
    "*/"
   ]
  }
 ],
 "metadata": {
  "kernelspec": {
   "display_name": "Java",
   "language": "java",
   "name": "java"
  },
  "language_info": {
   "codemirror_mode": "java",
   "file_extension": ".jshell",
   "mimetype": "text/x-java-source",
   "name": "Java",
   "pygments_lexer": "java",
   "version": "18+36-2087"
  }
 },
 "nbformat": 4,
 "nbformat_minor": 5
}
