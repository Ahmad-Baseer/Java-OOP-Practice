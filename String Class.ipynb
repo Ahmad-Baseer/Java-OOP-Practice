{
 "cells": [
  {
   "cell_type": "markdown",
   "id": "35a8a219",
   "metadata": {},
   "source": [
    "# Practice Set # 12"
   ]
  },
  {
   "cell_type": "markdown",
   "id": "4f5b2442",
   "metadata": {},
   "source": [
    "### Exercise # 01: Construct a program which shows the implementation of concat() string class built-in method."
   ]
  },
  {
   "cell_type": "code",
   "execution_count": 1,
   "id": "f2982902",
   "metadata": {},
   "outputs": [
    {
     "name": "stdout",
     "output_type": "stream",
     "text": [
      "My name is Ahmad\r\n"
     ]
    }
   ],
   "source": [
    "public class Lab13T1 {\n",
    "public static void main(String[] args) {\n",
    "char string[]={'M','y',' ','n','a','m','e'};\n",
    "String s1=new String(string);\n",
    "String s2=\" is Ahmad\";\n",
    "//concat() method will join the two strings:\n",
    "System.out.println(s1.concat(s2));\n",
    "}\n",
    "}\n",
    "Lab13T1.main(null);"
   ]
  },
  {
   "cell_type": "markdown",
   "id": "b2c5fb3c",
   "metadata": {},
   "source": [
    "### Exercise # 02: Construct a program which shows the implementation of compareTo() string class built-in method.\n"
   ]
  },
  {
   "cell_type": "code",
   "execution_count": 3,
   "id": "43c758be",
   "metadata": {},
   "outputs": [
    {
     "name": "stdout",
     "output_type": "stream",
     "text": [
      "str1 & str2 comparison: -16\n",
      "str1 & str3 comparison: 0\n",
      "str2 & string argument comparison: 0\n",
      "5\n",
      "-5\n"
     ]
    }
   ],
   "source": [
    "public class Lab13t2 {\n",
    "public static void main(String[] args) {\n",
    "String str1 = \"String method tutorial\";\n",
    "String str2 = \"compareTo method example\";\n",
    "String str3 = \"String method tutorial\";\n",
    "String str4 = \"Negan\";\n",
    "String str5 = \"\"; //empty string\n",
    "/*it compares string lexicographically it means it compares\n",
    "the unicode values of characters */\n",
    "int var1 = str1.compareTo( str2 );\n",
    "System.out.println(\"str1 & str2 comparison: \"+var1);\n",
    "int var2 = str1.compareTo( str3 );\n",
    "System.out.println(\"str1 & str3 comparison: \"+var2);\n",
    "int var3 = str2.compareTo(\"compareTo method example\");\n",
    "System.out.println(\"str2 & string argument comparison: \"+var3);\n",
    "System.out.println(str4.compareTo(str5)); \n",
    "System.out.println(str5.compareTo(str4)); \n",
    "}\n",
    "}\n",
    "Lab13t2.main(null);"
   ]
  },
  {
   "cell_type": "markdown",
   "id": "c4a34dec",
   "metadata": {},
   "source": [
    "### Exercise # 03: Construct a program which shows the implementation of equals() string class built-in method."
   ]
  },
  {
   "cell_type": "code",
   "execution_count": 9,
   "id": "9e4cdfb6",
   "metadata": {},
   "outputs": [
    {
     "name": "stdout",
     "output_type": "stream",
     "text": [
      "My name==is Ahmad--->false\n",
      "dfd==dfd--->true\n",
      "ABCDEFG==abcdefg--->false\n"
     ]
    }
   ],
   "source": [
    "public class Lab13t3 {\n",
    "public static void main(String[] args) {\n",
    "char string[]={'M','y',' ','n','a','m','e'};\n",
    "String s1=new String(string);\n",
    "String s2=\"is Ahmad\";\n",
    "String s3=\"dfd\";//empty\n",
    "String s4=\"dfd\";//empty\n",
    "String s5=\"ABCDEFG\";\n",
    "String s6=\"abcdefg\";\n",
    "/*Compares two strings. Returns true if the strings\n",
    "are equal, and false if not*/\n",
    "System.out.println(s1+\"==\"+s2+\"--->\"+s1.equals(s2));//false\n",
    "System.out.println(s3+\"==\"+s4+\"--->\"+s3.equals(s4));//true\n",
    "//This method is case sensitive so it will return false\n",
    "System.out.println(s5+\"==\"+s6+\"--->\"+s5.equals(s6));//false\n",
    "}\n",
    "}\n",
    "Lab13t3.main(null);"
   ]
  },
  {
   "cell_type": "markdown",
   "id": "f8efb4c8",
   "metadata": {},
   "source": [
    "### Exercise # 04: Construct a program which shows the implementation of length() string class built-in method."
   ]
  },
  {
   "cell_type": "code",
   "execution_count": 10,
   "id": "1cacd12a",
   "metadata": {},
   "outputs": [
    {
     "name": "stdout",
     "output_type": "stream",
     "text": [
      "16\n",
      "0\n"
     ]
    }
   ],
   "source": [
    "public class Lab13t4 {\n",
    "public static void main(String[] args) {\n",
    "String s1=\"Ahmad is my name\";\n",
    "String s2=\"\";//empty\n",
    "// it returns the length of string spacing is also regarded as character\n",
    "System.out.println(s1.length());\n",
    "System.out.println(s2.length());\n",
    "}\n",
    "}\n",
    "Lab13t4.main(null);"
   ]
  },
  {
   "cell_type": "markdown",
   "id": "3ab1eb9c",
   "metadata": {},
   "source": [
    "### Exercise # 05: Construct a program which shows the implementation of toUpperCase() string class built-in method.\n"
   ]
  },
  {
   "cell_type": "code",
   "execution_count": 11,
   "id": "2399ffc7",
   "metadata": {},
   "outputs": [
    {
     "name": "stdout",
     "output_type": "stream",
     "text": [
      "asdfghjkl to ASDFGHJKL\r\n"
     ]
    }
   ],
   "source": [
    "public class Lab13t5 {\n",
    "public static void main(String[] args) {\n",
    "String s1=\"asdfghjkl\";\n",
    "//convert string to uppercase\n",
    "System.out.println(s1+\" to \"+s1.toUpperCase());\n",
    "}\n",
    "}\n",
    "Lab13t5.main(null);"
   ]
  },
  {
   "cell_type": "code",
   "execution_count": null,
   "id": "20de53bf",
   "metadata": {},
   "outputs": [],
   "source": []
  }
 ],
 "metadata": {
  "kernelspec": {
   "display_name": "Java",
   "language": "java",
   "name": "java"
  },
  "language_info": {
   "codemirror_mode": "java",
   "file_extension": ".jshell",
   "mimetype": "text/x-java-source",
   "name": "Java",
   "pygments_lexer": "java",
   "version": "18+36-2087"
  }
 },
 "nbformat": 4,
 "nbformat_minor": 5
}
