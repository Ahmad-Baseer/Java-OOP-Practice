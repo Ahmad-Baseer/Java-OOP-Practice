{
 "cells": [
  {
   "cell_type": "markdown",
   "id": "c823f196",
   "metadata": {},
   "source": [
    "# Practice Set # 07"
   ]
  },
  {
   "cell_type": "markdown",
   "id": "f28d6ca0",
   "metadata": {},
   "source": [
    "### Exercise # 01: Create a class Point, with two properties x and y. Write all the methods to manipulate the values of Point. Write a method that can check two Objects of Point class for Equality."
   ]
  },
  {
   "cell_type": "code",
   "execution_count": 1,
   "id": "9da12e4b",
   "metadata": {},
   "outputs": [
    {
     "name": "stdout",
     "output_type": "stream",
     "text": [
      "Plz enter first point x co-ordinate:4\n",
      "Plz enter first point y co-ordinate:5\n",
      "Plz enter Second point x co-ordinate:3\n",
      "Plz enter Second point y co-ordinate:6\n",
      "\n",
      "Distance between given points is: 1.4142135623730951\n",
      "p == p1: false\n",
      "Mid point of line is: (3,5)"
     ]
    }
   ],
   "source": [
    "public class Point {\n",
    "int x1,y1,x2,y2;\n",
    "Point(int x1,int y1,int x2,int y2){\n",
    "this.x1=x1;\n",
    "this.x2=x2;\n",
    "this.y1=y1;\n",
    "this.y2=y2;\n",
    "}\n",
    "public double distance( ){\n",
    "int x=x2-x1;\n",
    "int y=y2-y1;\n",
    "return Math.sqrt(x*x+y*y);\n",
    "}\n",
    "public String MidPoint( ){\n",
    "int x=(x2+x1)/2;\n",
    "int y=(y2+y1)/2;\n",
    "return (\"Mid point of line is: (\"+x+\",\"+y+\")\");\n",
    "}\n",
    "boolean equals(Point obj) {\n",
    "if(obj.x1 == x1 && obj.x2 == x2 && obj.y1 == y1 && obj.y2 == y2)\n",
    "return true;\n",
    "else\n",
    "return false;\n",
    "}\n",
    "}\n",
    "import java.util.Scanner;\n",
    "public class Test {\n",
    "public static void main(String[] args) {\n",
    "Scanner sc=new Scanner(System.in);\n",
    "int a,b,c,d;\n",
    "System.out.print(\"Plz enter first point x co-ordinate:\");\n",
    "a=sc.nextInt();\n",
    "System.out.print(\"Plz enter first point y co-ordinate:\");\n",
    "b=sc.nextInt();\n",
    "System.out.print(\"Plz enter Second point x co-ordinate:\");\n",
    "c=sc.nextInt();\n",
    "System.out.print(\"Plz enter Second point y co-ordinate:\");\n",
    "d=sc.nextInt();\n",
    "System.out.println();\n",
    "Point p=new Point(a,b,c,d);\n",
    "Point p1=new Point(3,4,5,6);\n",
    "System.out.print(\"Distance between given points is: \"+p.distance());\n",
    "System.out.println();\n",
    "System.out.println(\"p == p1: \" + p.equals(p1));\n",
    "System.out.print(p.MidPoint());\n",
    "}\n",
    "}\n",
    "Test.main(null);"
   ]
  },
  {
   "cell_type": "markdown",
   "id": "d2e2cf68",
   "metadata": {},
   "source": [
    "### Exercise # 02. Create a Class Line. Line Objects will be created by 2 Point Objects. Create 2 Line objects and check their equality by calling Point class equals function from Line class equals function."
   ]
  },
  {
   "cell_type": "code",
   "execution_count": 9,
   "id": "72b2b1bd",
   "metadata": {},
   "outputs": [
    {
     "name": "stdout",
     "output_type": "stream",
     "text": [
      "Line class objects are not equals\r\n"
     ]
    }
   ],
   "source": [
    "public class Point {\n",
    "int x,y;\n",
    "Point(int a , int b){\n",
    "x=a;\n",
    "y=b;\n",
    "}\n",
    "public static String equals(String s){\n",
    "if(\"True\".equals(s)){\n",
    "return \"Line class objects are equals\";\n",
    "}\n",
    "else{\n",
    "return \"Line class objects are not equals\";\n",
    "}\n",
    "}\n",
    "}\n",
    "public class Line{\n",
    "Line(){\n",
    "}\n",
    "int c,d;\n",
    "static String S;\n",
    "Line(int a, int b){\n",
    "c=a;\n",
    "d=b;\n",
    "}\n",
    "public static void Checking(Point o,Point j){\n",
    "Line L=new Line(o.x,o.y);\n",
    "Line L1=new Line(j.x,j.y);\n",
    "if(L.c==L1.c && L.d==L1.d){\n",
    "S=\"True\";\n",
    "}\n",
    "else{\n",
    "S=\"false\";\n",
    "}\n",
    "} \n",
    "static Point p1=new Point(5,7);\n",
    "static Point p2=new Point(8,7);\n",
    "public static void equals(){\n",
    "System.out.println(p1.equals(S));\n",
    "}\n",
    "public static void main(String[] args) {\n",
    "Checking(p1,p2);\n",
    "equals();\n",
    "}\n",
    "}\n",
    "Line.main(null);"
   ]
  }
 ],
 "metadata": {
  "kernelspec": {
   "display_name": "Java",
   "language": "java",
   "name": "java"
  },
  "language_info": {
   "codemirror_mode": "java",
   "file_extension": ".jshell",
   "mimetype": "text/x-java-source",
   "name": "Java",
   "pygments_lexer": "java",
   "version": "18+36-2087"
  }
 },
 "nbformat": 4,
 "nbformat_minor": 5
}
