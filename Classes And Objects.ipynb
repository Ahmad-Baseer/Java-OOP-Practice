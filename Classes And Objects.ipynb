{
 "cells": [
  {
   "cell_type": "markdown",
   "id": "6c83e4c7",
   "metadata": {},
   "source": [
    "# Practice Set # 06"
   ]
  },
  {
   "cell_type": "markdown",
   "id": "df46e733",
   "metadata": {},
   "source": [
    "### Exercise#01: Assign and print the roll number, phone number and address of two students having names \"Babar\" and \"Danish\" respectively by creating two objects of class 'Student'.\n"
   ]
  },
  {
   "cell_type": "code",
   "execution_count": 7,
   "id": "0bef4ed6",
   "metadata": {},
   "outputs": [
    {
     "name": "stdout",
     "output_type": "stream",
     "text": [
      "Name of Student is:Babar\n",
      "His phone number is:313670504\n",
      "His Roll no is:136\n",
      "His address is:Jauhar\n",
      "Name of Student is:danish\n",
      "His phone number is:313763190\n",
      "His Roll no is:146\n",
      "His address is:Clifton\n"
     ]
    }
   ],
   "source": [
    "class Student {\n",
    "int rn_no;\n",
    "long ph_no;\n",
    "String address,name;\n",
    "Student(String n,long p,int r,String ad){\n",
    "ph_no=p;\n",
    "rn_no=r;\n",
    "address=ad;\n",
    "name=n;\n",
    "}\n",
    "void print(){\n",
    "System.out.println(\"Name of Student is:\"+name);\n",
    "System.out.println(\"His phone number is:\"+ph_no);\n",
    "System.out.println(\"His Roll no is:\"+rn_no);\n",
    "System.out.println(\"His address is:\"+address);\n",
    "}\n",
    "}\n",
    "\n",
    "public class Studentdemo {\n",
    "public static void main(String[] args) {\n",
    "Student S1=new Student(\"Babar\",313670504,136,\"Jauhar\");\n",
    "Student S2=new Student(\"danish\",313763190,146,\"Clifton\");\n",
    "S1.print();\n",
    "S2.print();\n",
    "}\n",
    "}\n",
    "\n",
    "Studentdemo.main(null);"
   ]
  },
  {
   "cell_type": "markdown",
   "id": "49084f87",
   "metadata": {},
   "source": [
    "### Exercise # 02: Add two distances in inch-feet by creating a class named 'AddDistance'."
   ]
  },
  {
   "cell_type": "code",
   "execution_count": 9,
   "id": "49087c13",
   "metadata": {},
   "outputs": [
    {
     "name": "stdout",
     "output_type": "stream",
     "text": [
      "Plz enter first distance in feet:\n",
      "12\n",
      "Plz enter Second distance in feet:\n",
      "12\n",
      "Plz enter first distance in inch:\n",
      "14\n",
      "Plz enter Second distance in inch:\n",
      "14\n",
      "The total distance is 26 feet 4.0 inches!\n"
     ]
    }
   ],
   "source": [
    "public class AddDistance {\n",
    "int feet1,feet2,inch1,inch2;\n",
    "double inch;\n",
    "int adddistance(){\n",
    "return (feet1+feet2)+((inch1+inch2)/12);\n",
    "}\n",
    "}\n",
    "\n",
    "import java.util.Scanner;\n",
    "public class Adddistancedemo {\n",
    "public static void main(String[] args) {\n",
    "AddDistance ad=new AddDistance();\n",
    "Scanner sc=new Scanner(System.in);\n",
    "System.out.println(\"Plz enter first distance in feet:\");\n",
    "ad.feet1=sc.nextInt();\n",
    "System.out.println(\"Plz enter Second distance in feet:\");\n",
    "ad.feet2=sc.nextInt();\n",
    "System.out.println(\"Plz enter first distance in inch:\");\n",
    "ad.inch1=sc.nextInt();\n",
    "System.out.println(\"Plz enter Second distance in inch:\");\n",
    "ad.inch2=sc.nextInt();\n",
    "ad.inch=(ad.inch1+ad.inch2)%12;\n",
    "int feet=ad.adddistance();\n",
    "System.out.println(\"The total distance is \"+feet+\" feet \"+ad.inch+\" inches!\");\n",
    "}\n",
    "}\n",
    "\n",
    "Adddistancedemo.main(null);"
   ]
  },
  {
   "cell_type": "markdown",
   "id": "e3818342",
   "metadata": {},
   "source": [
    "### Exercise # 03: Write a program using a class which shows implementation of a method that takes parameters."
   ]
  },
  {
   "cell_type": "code",
   "execution_count": 10,
   "id": "53efe0f4",
   "metadata": {},
   "outputs": [
    {
     "name": "stdout",
     "output_type": "stream",
     "text": [
      "The volume of cube is: 65.20500000000001 meter cube"
     ]
    }
   ],
   "source": [
    "public class Cube {\n",
    "double breadth,height,length;\n",
    "//Parameterized method implementation;\n",
    "void setdimension(double b,double h,double L ){\n",
    "breadth=b;\n",
    "height=h;\n",
    "length=L;\n",
    "}\n",
    "double volume(){\n",
    "return breadth*height*length;\n",
    "}\n",
    "}\n",
    "\n",
    "public class Cubedemo {\n",
    "public static void main(String[] args) {\n",
    "double vol1=0;\n",
    "Cube Cu=new Cube();\n",
    "// Use of parametrized method\n",
    "Cu.setdimension(2.1,4.5,6.9);\n",
    "vol1=Cu.volume();\n",
    "System.out.print(\"The volume of cube is: \"+vol1+\" meter cube\");\n",
    "}\n",
    "}\n",
    "\n",
    "Cubedemo.main(null);"
   ]
  },
  {
   "cell_type": "markdown",
   "id": "0af85bf3",
   "metadata": {},
   "source": [
    "### Exercise # 04: Write a program using a class which shows implementation of a parameterized constructor."
   ]
  },
  {
   "cell_type": "code",
   "execution_count": 11,
   "id": "3913ec32",
   "metadata": {},
   "outputs": [
    {
     "name": "stdout",
     "output_type": "stream",
     "text": [
      "The Area of box is: 30.150000000000002"
     ]
    }
   ],
   "source": [
    "public class Box {\n",
    "double breadth,length,area1;\n",
    "Box(double b,double l){\n",
    "breadth=b;\n",
    "length=l;\n",
    "}\n",
    "double Area(){\n",
    "area1= breadth*length;\n",
    "return area1;\n",
    "}\n",
    "void print(){\n",
    "System.out.print(\"The Area of box is: \"+area1);\n",
    "}\n",
    "}\n",
    "\n",
    "public class Boxdemo {\n",
    "public static void main(String[] args) {\n",
    "Box bx=new Box(4.5,6.7);\n",
    "bx.Area();\n",
    "bx.print();\n",
    "}\n",
    "}\n",
    "\n",
    "Boxdemo.main(null);"
   ]
  },
  {
   "cell_type": "code",
   "execution_count": null,
   "id": "99fc15ef",
   "metadata": {},
   "outputs": [],
   "source": []
  }
 ],
 "metadata": {
  "kernelspec": {
   "display_name": "Java",
   "language": "java",
   "name": "java"
  },
  "language_info": {
   "codemirror_mode": "java",
   "file_extension": ".jshell",
   "mimetype": "text/x-java-source",
   "name": "Java",
   "pygments_lexer": "java",
   "version": "18+36-2087"
  }
 },
 "nbformat": 4,
 "nbformat_minor": 5
}
