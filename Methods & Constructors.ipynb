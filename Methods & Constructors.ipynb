{
 "cells": [
  {
   "cell_type": "markdown",
   "id": "e626184a",
   "metadata": {},
   "source": [
    "# Practice Set # 08"
   ]
  },
  {
   "cell_type": "markdown",
   "id": "123ca915",
   "metadata": {},
   "source": [
    "### Exercise # 01: Write a Java method to find the maximum number among three numbers\n",
    "**Test Data:\n",
    "<br>\n",
    "Input the first number: 25\n",
    "<br>\n",
    "Input the Second number: 37\n",
    "<br>\n",
    "Input the third number: 29**"
   ]
  },
  {
   "cell_type": "code",
   "execution_count": 2,
   "id": "7f346b98",
   "metadata": {},
   "outputs": [
    {
     "name": "stdout",
     "output_type": "stream",
     "text": [
      "Plz enter your first number:45\n",
      "Plz enter your Second number:35\n",
      "Plz enter your Third number:67\n",
      "Your greatest number is:67\n"
     ]
    }
   ],
   "source": [
    "public class Lab9T1a {\n",
    "int no1,no2,no3;\n",
    "public void greatestfinder(){\n",
    "if(no1>no2 && no1>no3){\n",
    "System.out.println(\"Your greatest number is:\"+no1);\n",
    "}\n",
    "if(no2>no1&&no2>no3){\n",
    "System.out.println(\"Your greatest number is:\"+no2);\n",
    "}\n",
    "if(no3>no1&&no3>no2){\n",
    "System.out.println(\"Your greatest number is:\"+no3);\n",
    "}\n",
    "}\n",
    "}\n",
    "import java.util.Scanner;\n",
    "public class Lab9T1 {\n",
    "public static void main(String[] args) {\n",
    "Scanner sc=new Scanner(System.in);\n",
    "Lab9T1a obj=new Lab9T1a();\n",
    "System.out.print(\"Plz enter your first number:\");\n",
    "obj.no1=sc.nextInt();\n",
    "System.out.print(\"Plz enter your Second number:\");\n",
    "obj.no2=sc.nextInt();\n",
    "System.out.print(\"Plz enter your Third number:\");\n",
    "obj.no3=sc.nextInt();\n",
    "obj.greatestfinder();\n",
    "}\n",
    "}\n",
    "Lab9T1.main(null);"
   ]
  },
  {
   "cell_type": "markdown",
   "id": "001cc742",
   "metadata": {},
   "source": [
    "### Exercise # 02. Write methods to calculate the area of a triangle. "
   ]
  },
  {
   "cell_type": "code",
   "execution_count": 8,
   "id": "fc399063",
   "metadata": {},
   "outputs": [
    {
     "name": "stdout",
     "output_type": "stream",
     "text": [
      "Plz enter height: 34\n",
      "Plz enter width: 2\n",
      "Your area of triangle is: 34.0"
     ]
    }
   ],
   "source": [
    "public class Lab9T2a {\n",
    "public double AreaCalculator(double h,double w){\n",
    "return (h*w)/2;\n",
    "}\n",
    "}\n",
    "import java.util.Scanner;\n",
    "public class Lab9T2 {\n",
    "public static void main(String[] args) {\n",
    "Scanner sc=new Scanner(System.in);\n",
    "double height,width;\n",
    "Lab9T2a obj=new Lab9T2a();\n",
    "System.out.print(\"Plz enter height: \");\n",
    "height=sc.nextInt();\n",
    "System.out.print(\"Plz enter width: \");\n",
    "width=sc.nextInt();\n",
    "System.out.print(\"Your area of triangle is: \"+obj. AreaCalculator(height,width));\n",
    "}\n",
    "}\n",
    "Lab9T2.main(null);"
   ]
  },
  {
   "cell_type": "markdown",
   "id": "953e68f8",
   "metadata": {},
   "source": [
    "### Exercise # 03: Write a program with a method named getTotal that accepts two integers as an argument and return its sum. Call this method from main( ) and print the results"
   ]
  },
  {
   "cell_type": "code",
   "execution_count": 9,
   "id": "b62aa0fd",
   "metadata": {},
   "outputs": [
    {
     "name": "stdout",
     "output_type": "stream",
     "text": [
      "Plz enter first number: 23\n",
      "Plz enter Second number: 45\n",
      "Sum is: 68"
     ]
    }
   ],
   "source": [
    "public class Lab9T3a {\n",
    "public int getTotal(int c,int d){\n",
    "return c+d;\n",
    "}\n",
    "}\n",
    "import java.util.Scanner;\n",
    "public class Lab9T3 {\n",
    "public static void main(String[] args) {\n",
    "Scanner sc=new Scanner(System.in);\n",
    "int a,b;\n",
    "Lab9T3a obj=new Lab9T3a();\n",
    "System.out.print(\"Plz enter first number: \");\n",
    "a=sc.nextInt();\n",
    "System.out.print(\"Plz enter Second number: \");\n",
    "b=sc.nextInt();\n",
    "System.out.print(\"Sum is: \"+obj.getTotal(a,b));\n",
    "}\n",
    "}\n",
    "Lab9T3.main(null);"
   ]
  },
  {
   "cell_type": "markdown",
   "id": "82d4ed69",
   "metadata": {},
   "source": [
    "### Exercise # 04: Write a constructor in the Car class given below that initializes the brand class field with the string “Ford”.Call the getBrand() method in the main method of the Sample class and store the value of the brand in a variable, and print the value."
   ]
  },
  {
   "cell_type": "code",
   "execution_count": 11,
   "id": "6d8fa95d",
   "metadata": {},
   "outputs": [
    {
     "name": "stdout",
     "output_type": "stream",
     "text": [
      "Brand of car is:Ford\r\n"
     ]
    }
   ],
   "source": [
    "public class Brand {\n",
    "String brand=null;\n",
    "}\n",
    "\n",
    "public class Car {\n",
    "Brand obj=new Brand();\n",
    "Car(){\n",
    "obj.brand=\"Ford\";\n",
    "}\n",
    "public String getbrand(){\n",
    "return \"Ford\";\n",
    "}\n",
    "}\n",
    "\n",
    "public class SampleClass {\n",
    "public static void main(String[] args) {\n",
    "Car obj=new Car();\n",
    "String b=obj.getbrand();\n",
    "System.out.println(\"Brand of car is:\"+b);\n",
    "}\n",
    "}\n",
    "SampleClass.main(null);\n"
   ]
  }
 ],
 "metadata": {
  "kernelspec": {
   "display_name": "Java",
   "language": "java",
   "name": "java"
  },
  "language_info": {
   "codemirror_mode": "java",
   "file_extension": ".jshell",
   "mimetype": "text/x-java-source",
   "name": "Java",
   "pygments_lexer": "java",
   "version": "18+36-2087"
  }
 },
 "nbformat": 4,
 "nbformat_minor": 5
}
